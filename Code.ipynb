{
  "cells": [
    {
      "cell_type": "markdown",
      "metadata": {
        "id": "kgRVyG3-TxRP"
      },
      "source": [
        "# Imports"
      ]
    },
    {
      "cell_type": "code",
      "execution_count": null,
      "metadata": {
        "id": "xwKVaGEzTBK1"
      },
      "outputs": [],
      "source": [
        "## utils\n",
        "import numpy as np\n",
        "import matplotlib.pyplot as plt\n",
        "import cv2\n",
        "from scipy.io import loadmat\n",
        "import glob\n",
        "import os\n",
        "from PIL import Image\n",
        "import seaborn as sns\n",
        "import shutil\n",
        "from tqdm import tqdm\n",
        "import pickle\n",
        "from statistics import mode\n",
        "from collections import defaultdict\n",
        "import gc\n",
        "\n",
        "## tensorflow\n",
        "import tensorflow as tf\n",
        "from tensorflow.keras import layers, models, optimizers\n",
        "from tensorflow.keras.preprocessing import image\n",
        "from tensorflow.keras.callbacks import EarlyStopping, ReduceLROnPlateau, ModelCheckpoint\n",
        "from tensorflow.keras.applications import VGG16\n",
        "\n",
        "## sklearn\n",
        "from sklearn.metrics import confusion_matrix\n",
        "from sklearn.model_selection import train_test_split\n",
        "\n"
      ]
    },
    {
      "cell_type": "markdown",
      "metadata": {
        "id": "SM8DCqUtDFO1"
      },
      "source": [
        "# Mount Google Drive"
      ]
    },
    {
      "cell_type": "markdown",
      "metadata": {
        "id": "QRZk0h6TGlbM"
      },
      "source": [
        "## Dataset Access (Private)\n",
        "\n",
        "The original handwriting images are proprietary and stored in a private Google Drive.\n",
        "They are **not** included in this repository.\n",
        "\n",
        "To reproduce the experiments:\n",
        "1. Obtain access credentials from the dataset owers.\n",
        "2. Mount your Google Drive in Colab:\n",
        "  ```python\n",
        "  from google.colab import drive\n",
        "  drive.mount('/content/drive')\n",
        "  ```\n",
        "3. Set an environment variable pointing to the project folder:\n",
        "  ```python\n",
        "  data_path = 'drive/MyDrive/DL_PROJECT'\n",
        "  ```"
      ]
    },
    {
      "cell_type": "code",
      "execution_count": null,
      "metadata": {
        "id": "CHbF3P9dTPts"
      },
      "outputs": [],
      "source": [
        "# Define folders to be created and used\n",
        "\n",
        "orig_images = \"images\" # storing original images\n",
        "authors_dir = 'authors' # storing the author's .pkl files\n",
        "base_dir = 'dataset_directory' # storing the data sets (after pre-processing)\n",
        "train_dir = os.path.join(base_dir, 'train') # train data set directory\n",
        "val_dir = os.path.join(base_dir, 'validation') # validation data set directory\n",
        "test_dir = os.path.join(base_dir, 'test') # test data set directory"
      ]
    },
    {
      "cell_type": "code",
      "execution_count": null,
      "metadata": {
        "id": "xdq3l208Ta-R"
      },
      "outputs": [],
      "source": [
        "# If already exist, recursively delete and re-create\n",
        "\n",
        "for dir_path in [train_dir, val_dir, test_dir, orig_images, authors_dir]:\n",
        "  if os.path.exists(dir_path):\n",
        "    shutil.rmtree(dir_path)\n",
        "  os.makedirs(dir_path)"
      ]
    },
    {
      "cell_type": "code",
      "execution_count": null,
      "metadata": {
        "id": "g1vhki94TfSY"
      },
      "outputs": [],
      "source": [
        "author_images_dir = f'{data_path}/author_images' # where the images are kept inside the Google Drive project folder"
      ]
    },
    {
      "cell_type": "code",
      "execution_count": null,
      "metadata": {
        "id": "_uslWmbdT-fM"
      },
      "outputs": [],
      "source": [
        "author_mat_dir = f'{data_path}/author_mat' # where the .mat files are kept inside the Google Drive project folder"
      ]
    },
    {
      "cell_type": "markdown",
      "metadata": {
        "id": "KBusq-yeDFO2"
      },
      "source": [
        "# Read the files"
      ]
    },
    {
      "cell_type": "code",
      "execution_count": null,
      "metadata": {
        "id": "3oYu0z6LUnN6"
      },
      "outputs": [],
      "source": [
        "# List of all the files names\n",
        "\n",
        "author_images = glob.glob(author_images_dir + '/*.jpg')"
      ]
    },
    {
      "cell_type": "code",
      "execution_count": null,
      "metadata": {
        "id": "CcsfhJXbUkLD"
      },
      "outputs": [],
      "source": [
        "# get only the file name without the extension\n",
        "\n",
        "author_names = [os.path.splitext(os.path.basename(filename))[0]\n",
        "                for filename in author_images]"
      ]
    },
    {
      "cell_type": "markdown",
      "metadata": {
        "id": "Etq8G9wzDFO2"
      },
      "source": [
        "# Define Consts"
      ]
    },
    {
      "cell_type": "code",
      "execution_count": null,
      "metadata": {
        "id": "V8jhjjrKc6Yz"
      },
      "outputs": [],
      "source": [
        "MAX_HEIGHT = 0"
      ]
    },
    {
      "cell_type": "code",
      "execution_count": null,
      "metadata": {
        "id": "HYju4JPMt6y2"
      },
      "outputs": [],
      "source": [
        "MAX_WIDTH = 600"
      ]
    },
    {
      "cell_type": "markdown",
      "metadata": {
        "id": "EBFuuDLmDFO2"
      },
      "source": [
        "# Functions for Segment Generator"
      ]
    },
    {
      "cell_type": "code",
      "execution_count": null,
      "metadata": {
        "id": "dLYHgozeVtfc"
      },
      "outputs": [],
      "source": [
        "def ensure_file_exists(filepath: str):\n",
        "    if not os.path.exists(filepath):\n",
        "        raise FileNotFoundError(f\"The file {filepath} does not exist!\")"
      ]
    },
    {
      "cell_type": "code",
      "execution_count": null,
      "metadata": {
        "id": "vvAvh2jEVu8V"
      },
      "outputs": [],
      "source": [
        "def load_image(image_path: str):\n",
        "    ensure_file_exists(image_path)\n",
        "    image = cv2.imread(image_path)\n",
        "    if image is None:\n",
        "        raise ValueError(f\"Failed to read the image from {image_path}\")\n",
        "    return image"
      ]
    },
    {
      "cell_type": "code",
      "execution_count": null,
      "metadata": {
        "id": "5Os4dM49VwcL"
      },
      "outputs": [],
      "source": [
        "def convert_to_grayscale(img):\n",
        "  if img.ndim == 3 and img.shape[2] == 3:  # Verificar si la imagen es BGR\n",
        "      gray = cv2.cvtColor(img, cv2.COLOR_BGR2GRAY)\n",
        "  else:\n",
        "      gray = img  # La imagen ya está en escala de grises\n",
        "  return gray"
      ]
    },
    {
      "cell_type": "code",
      "execution_count": null,
      "metadata": {
        "id": "vmOYzxuHV5jo"
      },
      "outputs": [],
      "source": [
        "def get_white_pixel_ratio(img, threshold=245):\n",
        "\n",
        "    gray = convert_to_grayscale(img)\n",
        "\n",
        "    total_pixels = gray.size\n",
        "    white_pixels = np.sum(gray >= threshold)\n",
        "    return white_pixels / total_pixels"
      ]
    },
    {
      "cell_type": "code",
      "execution_count": null,
      "metadata": {
        "id": "JQLLUiBnWZhW"
      },
      "outputs": [],
      "source": [
        "def segment_image(image, top_area, bottom_area):\n",
        "  img = image[top_area : bottom_area]\n",
        "  return img"
      ]
    },
    {
      "cell_type": "code",
      "execution_count": null,
      "metadata": {
        "id": "sQwx7atAg7ZG"
      },
      "outputs": [],
      "source": [
        "def getEpsilon(lines_y: list, top_test_area: int, bottom_test_area: int):\n",
        "\n",
        "    start_index = np.searchsorted(lines_y, top_test_area, side='right')\n",
        "    end_index = np.searchsorted(lines_y, bottom_test_area, side='left')\n",
        "\n",
        "    min = np.min(np.array([top_test_area - lines_y[start_index - 1],\n",
        "                           bottom_test_area - lines_y[end_index - 1]]))\n",
        "\n",
        "    max = np.max(np.array([top_test_area - lines_y[start_index - 1],\n",
        "                           bottom_test_area - lines_y[end_index - 1]]))\n",
        "\n",
        "    return min, max"
      ]
    },
    {
      "cell_type": "code",
      "execution_count": null,
      "metadata": {
        "id": "RBC6Pz7Yhql5"
      },
      "outputs": [],
      "source": [
        "def contains_only_horizontal_line(segment):\n",
        "\n",
        "    img = cv2.cvtColor(segment, cv2.COLOR_BGR2GRAY)\n",
        "\n",
        "    _, binary = cv2.threshold(img, 0, 255, cv2.THRESH_BINARY_INV + cv2.THRESH_OTSU)\n",
        "\n",
        "    contours, _ = cv2.findContours(binary, cv2.RETR_EXTERNAL, cv2.CHAIN_APPROX_SIMPLE)\n",
        "\n",
        "    horizontal_contours = 0\n",
        "    for contour in contours:\n",
        "        x, y, w, h = cv2.boundingRect(contour)\n",
        "        if w > h:\n",
        "            horizontal_contours += 1\n",
        "\n",
        "    return horizontal_contours"
      ]
    },
    {
      "cell_type": "code",
      "execution_count": null,
      "metadata": {
        "id": "ohgDpe3Zhsl5"
      },
      "outputs": [],
      "source": [
        "def pad_segment(segment, new_height):\n",
        "    height, width = segment.shape[:2]\n",
        "\n",
        "    if new_height <= height:\n",
        "      return segment\n",
        "\n",
        "    total_padding = new_height - height\n",
        "    top_padding = total_padding // 2\n",
        "    bottom_padding = total_padding - top_padding\n",
        "\n",
        "    if len(segment.shape) == 2:\n",
        "      top = np.full((top_padding, width), 255, dtype=np.uint8)\n",
        "      bottom = np.full((bottom_padding, width), 255, dtype=np.uint8)\n",
        "    else:\n",
        "      top = np.full((top_padding, width, 3), 255, dtype=np.uint8)\n",
        "      bottom = np.full((bottom_padding, width, 3), 255, dtype=np.uint8)\n",
        "\n",
        "    padded_segment = np.vstack((top, segment, bottom))\n",
        "    return padded_segment"
      ]
    },
    {
      "cell_type": "code",
      "execution_count": null,
      "metadata": {
        "id": "5ppPhEOyhya4"
      },
      "outputs": [],
      "source": [
        "def get_white_pixel_ratio(segment, max_mean=245):\n",
        "    white_pixels = np.sum(segment > max_mean)\n",
        "    total_pixels = segment.size\n",
        "    return white_pixels / total_pixels"
      ]
    },
    {
      "cell_type": "code",
      "execution_count": null,
      "metadata": {
        "id": "m188DauBh6Nb"
      },
      "outputs": [],
      "source": [
        "def split_and_normalize(segment, max_mean, threshold):\n",
        "\n",
        "  height, width = segment.shape[:2]\n",
        "  num_subsegments = width // MAX_WIDTH\n",
        "\n",
        "  subsegments = []\n",
        "  for i in range(num_subsegments):\n",
        "    subsegment = segment[:, i * MAX_WIDTH : (i + 1) * MAX_WIDTH]\n",
        "    if not contains_only_horizontal_line(subsegment) == 1:\n",
        "      white_ratio = round(get_white_pixel_ratio(subsegment, max_mean=max_mean), 3)\n",
        "      if white_ratio < threshold:\n",
        "        subsegments.append(pad_segment(subsegment, 180))\n",
        "\n",
        "  subsegments.reverse()\n",
        "\n",
        "  return subsegments"
      ]
    },
    {
      "cell_type": "code",
      "execution_count": null,
      "metadata": {
        "id": "WfzvojqDkhwq"
      },
      "outputs": [],
      "source": [
        "def display_image(img, title=\"\"):\n",
        "    plt.imshow(img, cmap='gray')\n",
        "    plt.title(title)\n",
        "    plt.axis('off')\n",
        "    plt.show()"
      ]
    },
    {
      "cell_type": "code",
      "execution_count": null,
      "metadata": {
        "id": "qIJ7sBkQvmls"
      },
      "outputs": [],
      "source": [
        "def preprocess_image(image):\n",
        "    # Convert to grayscale if the image has three dimensions (indicating channels)\n",
        "    if image.ndim == 3 and image.shape[2] == 3:\n",
        "        grayscale = cv2.cvtColor(image, cv2.COLOR_BGR2GRAY)\n",
        "    else:\n",
        "        grayscale = image\n",
        "\n",
        "    # Binarization without inversion\n",
        "    _, binarized = cv2.threshold(grayscale, 0, 255, cv2.THRESH_BINARY + cv2.THRESH_OTSU)\n",
        "\n",
        "    # Noise reduction using morphological operations\n",
        "    kernel = np.ones((2, 2), np.uint8)\n",
        "    opened = cv2.morphologyEx(binarized, cv2.MORPH_OPEN, kernel)\n",
        "\n",
        "    # Blurring\n",
        "    blurred = cv2.GaussianBlur(opened, (81, 1501), 0)\n",
        "\n",
        "    return blurred\n"
      ]
    },
    {
      "cell_type": "code",
      "execution_count": null,
      "metadata": {
        "id": "xeMgi62VlUMa"
      },
      "outputs": [],
      "source": [
        "def remove_wide_whitespace(segment, threshold=0.97, max_space_width=30):\n",
        "    \"\"\"\n",
        "    Remove whitespace that exceeds a certain width.\n",
        "\n",
        "    Args:\n",
        "    - segment (numpy array): The image segment containing the line.\n",
        "    - threshold (float): The threshold to identify whitespace columns.\n",
        "    - max_space_width (int): Width above which a whitespace is removed.\n",
        "\n",
        "    Returns:\n",
        "    - numpy array: The segment with wide whitespace removed.\n",
        "    \"\"\"\n",
        "\n",
        "    preprocessed_segment = preprocess_image(segment)\n",
        "\n",
        "\n",
        "    # Get the sum of the pixel values for each column\n",
        "    column_sums = np.sum(preprocessed_segment, axis=0)\n",
        "\n",
        "    # Identify potential spaces based on a threshold and ensure it's a 1D boolean array\n",
        "    space_flags = (column_sums > threshold * np.max(column_sums)).flatten()\n",
        "\n",
        "    # Convert boolean array to list of start and end positions for spaces\n",
        "    in_space = False\n",
        "    spaces = []\n",
        "    for i, flag in enumerate(space_flags):\n",
        "        if flag and not in_space:\n",
        "            start = i\n",
        "            in_space = True\n",
        "        elif not flag and in_space:\n",
        "            end = i\n",
        "            if (end - start) > max_space_width:\n",
        "                spaces.append((start, end))\n",
        "            in_space = False\n",
        "\n",
        "    # Add this section to handle trailing whitespace\n",
        "    if in_space and (i - start) > max_space_width:\n",
        "        spaces.append((start, i))\n",
        "\n",
        "    # Filter out columns that are in the identified wide spaces\n",
        "    new_cols = []\n",
        "    for i in range(len(space_flags)):\n",
        "        if not any(start <= i < end for start, end in spaces):\n",
        "            new_cols.append(segment[:, i:i+1])\n",
        "\n",
        "\n",
        "    # Construct the new segment\n",
        "    new_segment = np.hstack(new_cols)\n",
        "\n",
        "    # Calculate padding required to make the width of new_segment same as original segment\n",
        "    left_padding = segment.shape[1] - new_segment.shape[1]\n",
        "\n",
        "    # Add padding only on the left side to make it the same width as the original\n",
        "    new_segment = cv2.copyMakeBorder(new_segment, 0, 0, left_padding, 0, cv2.BORDER_CONSTANT, value=[255, 255, 255])\n",
        "\n",
        "\n",
        "    return new_segment"
      ]
    },
    {
      "cell_type": "markdown",
      "metadata": {
        "id": "7HjlBLKel1AZ"
      },
      "source": [
        "# Segment Generator Class"
      ]
    },
    {
      "cell_type": "markdown",
      "metadata": {
        "id": "jQ53ZE8ZDFO3"
      },
      "source": [
        "This class will handle the data and logic for handling the data (authors images, mat files, etc) and will be saved to .pkl file once done"
      ]
    },
    {
      "cell_type": "code",
      "execution_count": null,
      "metadata": {
        "id": "kxeu-eoeUogc"
      },
      "outputs": [],
      "source": [
        "class SegmentGenerator:\n",
        "  def __init__(self, author: str):\n",
        "    self._author = author\n",
        "    self._getLinesAndTopAndBottom()\n",
        "    self._process_image()\n",
        "\n",
        "\n",
        "  def _getLinesAndTopAndBottom(self):\n",
        "    mat_path = f'{author_mat_dir}/{self._author}.mat'\n",
        "    ensure_file_exists(mat_path)\n",
        "\n",
        "    stam = loadmat(mat_path)\n",
        "    self._peaks_indices = stam['peaks_indices'].flatten()\n",
        "    self._index_of_max_in_peak_indices = stam['index_of_max_in_peak_indices'].flatten()[0]\n",
        "    self._SCALE_FACTOR = stam['SCALE_FACTOR'].flatten()[0]\n",
        "    self._delta = stam['delta'].flatten()[0]\n",
        "    self._top_test_area = stam['top_test_area'].flatten()[0]\n",
        "    self._bottom_test_area = stam['bottom_test_area'].flatten()[0]\n",
        "    self._generate_lines_y()\n",
        "\n",
        "  def _process_image(self):\n",
        "    image = load_image(f'{data_path}/author_images/{self._author}.jpg').copy()\n",
        "\n",
        "    cv2.imwrite(f'./{orig_images}/copy_{self._author}.jpg', image)\n",
        "\n",
        "\n",
        "  @property\n",
        "  def author(self):\n",
        "    return self._author\n",
        "\n",
        "  @property\n",
        "  def top_test_area(self):\n",
        "    return self._top_test_area\n",
        "\n",
        "  @property\n",
        "  def bottom_test_area(self):\n",
        "    return self._bottom_test_area\n",
        "\n",
        "  @property\n",
        "  def lines_y(self):\n",
        "    if not hasattr(self, '_lines_y'):\n",
        "      self._generate_lines_y()\n",
        "    return self._lines_y\n",
        "\n",
        "  @property\n",
        "  def non_empty_segments(self):\n",
        "    if not hasattr(self, '_non_empty_segments'):\n",
        "      self._divide_segments()\n",
        "    return self._non_empty_segments\n",
        "\n",
        "  @property\n",
        "  def forbidden_image_segments(self):\n",
        "    if not hasattr(self, '_forbidden_segment_image'):\n",
        "      self._load_forbidden_segment()\n",
        "    self._divide_forbidden()\n",
        "    return self._forbidden_image_segments\n",
        "\n",
        "  def _load_forbidden_segment(self):\n",
        "    image = load_image(f'{data_path}/author_images/{self._author}.jpg')\n",
        "    self._forbidden_segment_image = segment_image(image, self._top_test_area, self._bottom_test_area)\n",
        "\n",
        "\n",
        "  @property\n",
        "  def forbidden_image(self):\n",
        "    if not hasattr(self, '_forbidden_segment_image'):\n",
        "      self._load_forbidden_segment()\n",
        "    self._forbidden_image = self._forbidden_segment_image\n",
        "    return self._forbidden_image\n",
        "\n",
        "  @property\n",
        "  def img_top(self):\n",
        "    if not hasattr(self, '_img_top'):\n",
        "      self._divide_segments()\n",
        "    return self._img_top\n",
        "\n",
        "  @property\n",
        "  def img_bottom(self):\n",
        "    if not hasattr(self, '_img_bottom'):\n",
        "      self._divide_segments()\n",
        "    return self._img_bottom\n",
        "\n",
        "\n",
        "  def _generate_lines_y(self):\n",
        "    self._lines_y = np.array(self._peaks_indices) * self._SCALE_FACTOR\n",
        "\n",
        "  def _search_max_dimension(self):\n",
        "    height, width, _ = self.forbidden_image.shape[:3]\n",
        "\n",
        "    self._max_dimension = {\n",
        "        'height': height,\n",
        "        'width': width\n",
        "    }\n",
        "\n",
        "  @property\n",
        "  def max_dimension(self):\n",
        "    if not hasattr(self, '_max_dimension'):\n",
        "      self._search_max_dimension()\n",
        "    return self._max_dimension\n",
        "\n",
        "  def _divide_forbidden(self):\n",
        "    self._forbidden_image_segments = []\n",
        "    threshold = 0.98\n",
        "    max_mean = 241\n",
        "    reduced_whitespace_segment = remove_wide_whitespace(self._forbidden_segment_image)\n",
        "    segments = split_and_normalize(reduced_whitespace_segment, max_mean, threshold)\n",
        "    return self._forbidden_image_segments.extend(segments)\n",
        "\n",
        "  def _divide_segments(self):\n",
        "    self._non_empty_segments = []\n",
        "    image = load_image(f'./{orig_images}/copy_{self._author}.jpg')\n",
        "    threshold = 0.98\n",
        "    max_mean = 241\n",
        "\n",
        "    heights = np.diff(self._lines_y)\n",
        "    mean_heights = np.mean(heights) * 0.6\n",
        "\n",
        "    min, max = getEpsilon(self._lines_y, self._top_test_area, self._bottom_test_area)\n",
        "\n",
        "    for i in range(len(self._lines_y) - 1):\n",
        "        start_y = self._lines_y[i]\n",
        "        end_y = self._lines_y[i + 1]\n",
        "\n",
        "        start_y = self._bottom_test_area if start_y <= self._bottom_test_area and end_y >= self._bottom_test_area else start_y + min\n",
        "\n",
        "        end_y = self._top_test_area if start_y <= self._top_test_area and end_y >= self._top_test_area else end_y + max\n",
        "\n",
        "        if (end_y - start_y) >= mean_heights:\n",
        "            segment = image[start_y:end_y, :]\n",
        "\n",
        "            # Reduce the white spaces between words inside the line\n",
        "            reduced_whitespace_segment = remove_wide_whitespace(segment)\n",
        "\n",
        "            if not contains_only_horizontal_line(reduced_whitespace_segment) == 1:\n",
        "                white_ratio = round(get_white_pixel_ratio(reduced_whitespace_segment, max_mean=max_mean), 3)\n",
        "                if white_ratio < threshold:\n",
        "                    segments = split_and_normalize(reduced_whitespace_segment, max_mean, threshold)\n",
        "                    self._non_empty_segments.extend(segments)"
      ]
    },
    {
      "cell_type": "code",
      "execution_count": null,
      "metadata": {
        "id": "ykbDjTIxdmaR"
      },
      "outputs": [],
      "source": [
        "def save_segments_to_directory(segments, author, base_directory):\n",
        "    author_dir = os.path.join(base_directory, author)\n",
        "\n",
        "    if not os.path.exists(author_dir):\n",
        "        os.makedirs(author_dir)\n",
        "\n",
        "    for i, segment in enumerate(segments):\n",
        "        segment_image_path = os.path.join(author_dir, f'{author}_{i}.jpg')\n",
        "        Image.fromarray(segment).save(segment_image_path)"
      ]
    },
    {
      "cell_type": "markdown",
      "metadata": {
        "id": "OrKGTWE6DFO4"
      },
      "source": [
        "# Utils functions for displaying statistics and data"
      ]
    },
    {
      "cell_type": "code",
      "execution_count": null,
      "metadata": {
        "id": "Hr4TSOlCdvmS"
      },
      "outputs": [],
      "source": [
        "def smooth_curve(points, factor=0.8):\n",
        "  smoothed_points = []\n",
        "  for point in points:\n",
        "    if smoothed_points:\n",
        "      previous = smoothed_points[-1]\n",
        "      smoothed_points.append(previous * factor + point * (1 - factor))\n",
        "    else:\n",
        "      smoothed_points.append(point)\n",
        "  return smoothed_points"
      ]
    },
    {
      "cell_type": "code",
      "execution_count": null,
      "metadata": {
        "id": "AjcNhUs-dwcz"
      },
      "outputs": [],
      "source": [
        "def dplot_smoothing(accuracy, val_accuracy, loss, val_loss, epochs):\n",
        "    fig, (ax1, ax2) = plt.subplots(1, 2, figsize=(12, 6))\n",
        "\n",
        "    X = range(1, epochs + 1)\n",
        "\n",
        "    ax1.plot(X, smooth_curve(accuracy), 'bo', label='Smoothed training acc')\n",
        "    ax1.plot(X, smooth_curve(val_accuracy), 'b', label='Smoothed validation acc')\n",
        "    ax1.title.set_text('Training and validation accuracy')\n",
        "    ax1.legend()\n",
        "\n",
        "    ax2.plot(X, smooth_curve(loss), 'bo', label='Smoothed training loss')\n",
        "    ax2.plot(X, smooth_curve(val_loss), 'b', label='Smoothed validation loss')\n",
        "    ax2.title.set_text('Training and validation loss')\n",
        "    ax2.legend()\n",
        "\n",
        "    fig.tight_layout()\n",
        "    plt.show()"
      ]
    },
    {
      "cell_type": "code",
      "execution_count": null,
      "metadata": {
        "id": "EgtF5ogvdxa_"
      },
      "outputs": [],
      "source": [
        "def dplot_graph(accuracy, val_accuracy, loss, val_loss):\n",
        "    fig, (ax1, ax2) = plt.subplots(1, 2, figsize=(12, 6))\n",
        "\n",
        "    epochs = range(1, len(accuracy) + 1)\n",
        "\n",
        "    ax1.plot(epochs, loss, 'bo', label='Training Loss')\n",
        "    ax1.plot(epochs, val_loss, 'b', label='Validation Loss')\n",
        "    ax1.title.set_text('Loss Model')\n",
        "    ax1.set_xlabel('Epochs')\n",
        "    ax1.set_ylabel('Loss')\n",
        "    ax1.legend()\n",
        "\n",
        "    ax2.plot(epochs, accuracy, 'bo', label='Training Accuracy')\n",
        "    ax2.plot(epochs, val_accuracy, 'b', label='Validation Accuracy')\n",
        "    ax2.title.set_text('Accuracy Model')\n",
        "    ax2.set_xlabel('Epochs')\n",
        "    ax2.set_ylabel('Accuracy')\n",
        "    ax2.legend()\n",
        "\n",
        "    fig.tight_layout()\n",
        "    plt.show()"
      ]
    },
    {
      "cell_type": "code",
      "execution_count": null,
      "metadata": {
        "id": "5cuW-ZaZ3qvl"
      },
      "outputs": [],
      "source": [
        "def plot_confusion_matrix(y_true, y_pred, classes):\n",
        "  cm = confusion_matrix(y_true, y_pred)\n",
        "\n",
        "  plt.figure(figsize=(10, 7))\n",
        "  sns.heatmap(cm, annot=True, fmt='d', cmap='Blues', xticklabels=classes, yticklabels=classes)\n",
        "  plt.xlabel('Predicted labels')\n",
        "  plt.ylabel('True labels')\n",
        "  plt.title('Confusion Matrix')\n",
        "  plt.show()"
      ]
    },
    {
      "cell_type": "code",
      "execution_count": null,
      "metadata": {
        "id": "OH4fh1Mz28hD"
      },
      "outputs": [],
      "source": [
        "def dplot_confusion_matrix(model, val_data_gen, test_data_gen):\n",
        "\n",
        "  y_val_pred_probs = model.predict(val_data_gen)\n",
        "  y_val_preds = np.argmax(y_val_pred_probs, axis=1)\n",
        "  y_val_true = val_data_gen.classes\n",
        "\n",
        "  y_test_pred_probs = model.predict(test_data_gen)\n",
        "  y_test_preds = np.argmax(y_test_pred_probs, axis=1)\n",
        "  y_test_true = test_data_gen.classes\n",
        "\n",
        "  conf_matrix_val = confusion_matrix(y_val_true, y_val_preds)\n",
        "  conf_matrix_test = confusion_matrix(y_test_true, y_test_preds)\n",
        "\n",
        "  fig, (ax1, ax2) = plt.subplots(1, 2, figsize=(12, 6))\n",
        "\n",
        "  cax1 = ax1.matshow(conf_matrix_val, cmap=plt.cm.Blues)\n",
        "  fig.colorbar(cax1, ax=ax1)\n",
        "  ax1.set_title('Validation Confusion Matrix', pad=20)\n",
        "  ax1.set_xlabel('Predicted')\n",
        "  ax1.set_ylabel('True')\n",
        "\n",
        "  cax2 = ax2.matshow(conf_matrix_test, cmap=plt.cm.Blues)\n",
        "  fig.colorbar(cax2, ax=ax2)\n",
        "  ax2.set_title('Test Confusion Matrix', pad=20)\n",
        "  ax2.set_xlabel('Predicted')\n",
        "  ax2.set_ylabel('True')\n",
        "\n",
        "  plt.tight_layout()\n",
        "  plt.show()"
      ]
    },
    {
      "cell_type": "markdown",
      "metadata": {
        "id": "3d8EjMnIDFPC"
      },
      "source": [
        "# Model utils"
      ]
    },
    {
      "cell_type": "code",
      "execution_count": null,
      "metadata": {
        "id": "zwR44rOBqhQ0"
      },
      "outputs": [],
      "source": [
        "def build_transfer_model(input_shape, num_classes=10):\n",
        "    base_model = VGG16(weights='imagenet', include_top=False, input_shape=(input_shape[0], input_shape[1], 3))\n",
        "\n",
        "    model = models.Sequential()\n",
        "\n",
        "    # Add a lambda layer to replicate grayscale channel to RGB\n",
        "    model.add(layers.Lambda(lambda x: tf.repeat(x, 3, axis=-1), input_shape=input_shape))\n",
        "\n",
        "    model.add(base_model)\n",
        "    model.add(layers.GlobalAveragePooling2D())\n",
        "    model.add(layers.Dense(256, activation='relu'))\n",
        "    model.add(layers.Dense(num_classes, activation='softmax'))\n",
        "\n",
        "    for layer in base_model.layers:\n",
        "        layer.trainable = False\n",
        "\n",
        "    return model"
      ]
    },
    {
      "cell_type": "code",
      "execution_count": null,
      "metadata": {
        "id": "UF1MF75M4O6F"
      },
      "outputs": [],
      "source": [
        "def majority_vote(predictions):\n",
        "    return mode(predictions)"
      ]
    },
    {
      "cell_type": "code",
      "execution_count": null,
      "metadata": {
        "id": "8bXMcxFv4RDU"
      },
      "outputs": [],
      "source": [
        "def categorize_predictions(author_to_final_preds, index_to_class):\n",
        "    correct_predictions = {}\n",
        "    incorrect_predictions = {}\n",
        "\n",
        "    for author, pred_idx in author_to_final_preds.items():\n",
        "        predicted_author = index_to_class[pred_idx]\n",
        "        if predicted_author == author:\n",
        "            correct_predictions[author] = pred_idx\n",
        "        else:\n",
        "            incorrect_predictions[author] = pred_idx\n",
        "\n",
        "    return correct_predictions, incorrect_predictions"
      ]
    },
    {
      "cell_type": "code",
      "execution_count": null,
      "metadata": {
        "id": "3oK02Myi4TKT"
      },
      "outputs": [],
      "source": [
        "def predict_using_majority_vote_by_author(model, test_data_gen):\n",
        "    predictions = model.predict(test_data_gen)\n",
        "    predicted_labels = np.argmax(predictions, axis=1)\n",
        "\n",
        "    author_to_predictions = defaultdict(list)\n",
        "\n",
        "    for filename, label in zip(test_data_gen.filenames, predicted_labels):\n",
        "        author_name = os.path.dirname(filename)\n",
        "        author_to_predictions[author_name].append(label)\n",
        "\n",
        "    author_to_final_prediction = {}\n",
        "    author_to_confidence = {}\n",
        "    for author, preds in author_to_predictions.items():\n",
        "        most_common_pred = majority_vote(preds)\n",
        "        confidence = preds.count(most_common_pred) / len(preds)\n",
        "\n",
        "        author_to_final_prediction[author] = most_common_pred\n",
        "        author_to_confidence[author] = confidence\n",
        "\n",
        "    return author_to_final_prediction, author_to_confidence"
      ]
    },
    {
      "cell_type": "code",
      "execution_count": null,
      "metadata": {
        "id": "nFg3pzaU4VSl"
      },
      "outputs": [],
      "source": [
        "def display_mispredictions(author, predicted_author, directory):\n",
        "\n",
        "    author_dir = os.path.join(directory, f\"{author}.pkl\")\n",
        "    with open(author_dir, \"rb\") as file:\n",
        "        author_obj = pickle.load(file)\n",
        "        author_image = author_obj.forbidden_image\n",
        "\n",
        "    predicted_dir = os.path.join(directory, f\"{predicted_author}.pkl\")\n",
        "    with open(predicted_dir, \"rb\") as file:\n",
        "        predicted_obj = pickle.load(file)\n",
        "        predicted_image = predicted_obj.forbidden_image\n",
        "\n",
        "    fig, ax = plt.subplots(2, 1)\n",
        "\n",
        "    ax[0].imshow(author_image, cmap='gray')\n",
        "    ax[0].title.set_text(f\"Test: {author}\")\n",
        "\n",
        "    ax[1].imshow(predicted_image, cmap='gray')\n",
        "    ax[1].title.set_text(f\"Predicted: {predicted_author}\")"
      ]
    },
    {
      "cell_type": "code",
      "execution_count": null,
      "metadata": {
        "id": "G_WJ1ojz4XmP"
      },
      "outputs": [],
      "source": [
        "def display_images_and_predictions(author_dir, pred_idx, confidence, index_to_class):\n",
        "    with open(author_dir, 'rb') as file:\n",
        "      loaded_author = pickle.load(file)\n",
        "\n",
        "    image = loaded_author.original_test_image\n",
        "\n",
        "    plt.figure(figsize=(10,10))\n",
        "    plt.imshow(image, cmap='gray')\n",
        "    plt.title(f\"Predicted Author: {index_to_class[pred_idx]} with {confidence*100:.2f}% confidence\")\n",
        "    plt.show()"
      ]
    },
    {
      "cell_type": "markdown",
      "metadata": {
        "id": "_t0VhgCtd3R1"
      },
      "source": [
        "# Create the data sets using Segment Generators"
      ]
    },
    {
      "cell_type": "markdown",
      "metadata": {
        "id": "aIGr-aGcDFPC"
      },
      "source": [
        "#### Select part of the authors"
      ]
    },
    {
      "cell_type": "code",
      "execution_count": null,
      "metadata": {
        "id": "_cyVRH8xePGk"
      },
      "outputs": [],
      "source": [
        "# select what percentage from the 407 authors we want to use\n",
        "fraction_of_authors = 0.5"
      ]
    },
    {
      "cell_type": "code",
      "execution_count": null,
      "metadata": {
        "id": "ybeRO8r3eQNr"
      },
      "outputs": [],
      "source": [
        "selected_authors = author_names[:int(len(author_names) * fraction_of_authors)]"
      ]
    },
    {
      "cell_type": "code",
      "execution_count": null,
      "metadata": {
        "colab": {
          "base_uri": "https://localhost:8080/"
        },
        "id": "mRhHAdkEeSnO",
        "outputId": "81c7308a-f8a2-4546-8029-0913ac11a096"
      },
      "outputs": [
        {
          "data": {
            "text/plain": [
              "203"
            ]
          },
          "execution_count": 53,
          "metadata": {},
          "output_type": "execute_result"
        }
      ],
      "source": [
        "print(len(selected_authors))"
      ]
    },
    {
      "cell_type": "markdown",
      "metadata": {
        "id": "ULTO8S3BDFPC"
      },
      "source": [
        "#### create a Segment Generator for each author"
      ]
    },
    {
      "cell_type": "code",
      "execution_count": null,
      "metadata": {
        "colab": {
          "base_uri": "https://localhost:8080/"
        },
        "id": "lciByQBAeoq8",
        "outputId": "900a94fb-49ac-444b-b291-12cded7eadd6"
      },
      "outputs": [
        {
          "name": "stderr",
          "output_type": "stream",
          "text": [
            "Processing authors: 100%|██████████| 203/203 [04:55<00:00,  1.46s/it, current_author=lines4_Page_06]\n"
          ]
        }
      ],
      "source": [
        "pbar = tqdm(selected_authors, desc='Processing authors', ncols=100)\n",
        "\n",
        "for author in pbar:\n",
        "    pbar.set_postfix(current_author=author)\n",
        "    cur_author = SegmentGenerator(author)\n",
        "\n",
        "    height = cur_author.max_dimension.get('height')\n",
        "    if height > MAX_HEIGHT: MAX_HEIGHT = height\n",
        "\n",
        "    file_path = os.path.join(authors_dir, f\"{author}.pkl\")\n",
        "    with open(file_path, 'wb') as file:\n",
        "        pickle.dump(cur_author, file)\n",
        "\n",
        "    del cur_author\n",
        "    gc.collect()\n",
        "\n",
        "pbar.close()"
      ]
    },
    {
      "cell_type": "markdown",
      "metadata": {
        "id": "pkoPM9KaDFPC"
      },
      "source": [
        "#### Segment the hand-written lines of each writer to small segments and split to train, val and test"
      ]
    },
    {
      "cell_type": "code",
      "execution_count": null,
      "metadata": {
        "colab": {
          "base_uri": "https://localhost:8080/"
        },
        "id": "MTckW6Uueh8e",
        "outputId": "493b8ce7-c027-49ca-d94d-e82dae5a3987"
      },
      "outputs": [
        {
          "name": "stderr",
          "output_type": "stream",
          "text": [
            "Processing authors: 100%|██████████| 203/203 [10:01<00:00,  2.96s/it, current_author=lines4_Page_06]\n"
          ]
        }
      ],
      "source": [
        "pbar = tqdm(selected_authors, desc='Processing authors', ncols=100)\n",
        "\n",
        "for author in pbar:\n",
        "  pbar.set_postfix(current_author=author)\n",
        "  file_path = os.path.join(authors_dir, f\"{author}.pkl\")\n",
        "  with open(file_path, 'rb') as file:\n",
        "    loaded_author = pickle.load(file)\n",
        "\n",
        "    author = loaded_author.author\n",
        "    non_empty_images = loaded_author.non_empty_segments\n",
        "    forbidden_images = loaded_author.forbidden_image_segments\n",
        "\n",
        "    train, val = train_test_split(non_empty_images, test_size=0.2, random_state=42)\n",
        "\n",
        "    save_segments_to_directory(forbidden_images, author, test_dir)\n",
        "    save_segments_to_directory(train, author, train_dir)\n",
        "    save_segments_to_directory(val, author, val_dir)\n",
        "\n",
        "pbar.close()"
      ]
    },
    {
      "cell_type": "markdown",
      "metadata": {
        "id": "OKnFfoqGDFPD"
      },
      "source": [
        "# Model build and configure"
      ]
    },
    {
      "cell_type": "markdown",
      "metadata": {
        "id": "t-KspXuFDFPD"
      },
      "source": [
        "#### Build the transfer model"
      ]
    },
    {
      "cell_type": "code",
      "execution_count": null,
      "metadata": {
        "colab": {
          "base_uri": "https://localhost:8080/"
        },
        "id": "mBCGZcJxeYsk",
        "outputId": "e009b9df-f731-4cc7-9890-2dbf22a649ea"
      },
      "outputs": [
        {
          "name": "stdout",
          "output_type": "stream",
          "text": [
            "Downloading data from https://storage.googleapis.com/tensorflow/keras-applications/vgg16/vgg16_weights_tf_dim_ordering_tf_kernels_notop.h5\n",
            "58889256/58889256 [==============================] - 0s 0us/step\n",
            "Model: \"sequential\"\n",
            "_________________________________________________________________\n",
            " Layer (type)                Output Shape              Param #   \n",
            "=================================================================\n",
            " lambda (Lambda)             (None, 220, 600, 3)       0         \n",
            "                                                                 \n",
            " vgg16 (Functional)          (None, 6, 18, 512)        14714688  \n",
            "                                                                 \n",
            " global_average_pooling2d (  (None, 512)               0         \n",
            " GlobalAveragePooling2D)                                         \n",
            "                                                                 \n",
            " dense (Dense)               (None, 256)               131328    \n",
            "                                                                 \n",
            " dense_1 (Dense)             (None, 203)               52171     \n",
            "                                                                 \n",
            "=================================================================\n",
            "Total params: 14898187 (56.83 MB)\n",
            "Trainable params: 183499 (716.79 KB)\n",
            "Non-trainable params: 14714688 (56.13 MB)\n",
            "_________________________________________________________________\n"
          ]
        }
      ],
      "source": [
        "if 'model' in globals():\n",
        "    del model\n",
        "\n",
        "model = build_transfer_model((MAX_HEIGHT, MAX_WIDTH, 1), num_classes=len(selected_authors))\n",
        "\n",
        "model.summary()"
      ]
    },
    {
      "cell_type": "markdown",
      "metadata": {
        "id": "uWNfvpBTDFPD"
      },
      "source": [
        "#### Define Optimizer"
      ]
    },
    {
      "cell_type": "code",
      "execution_count": null,
      "metadata": {
        "id": "VJhty_BEek1B"
      },
      "outputs": [],
      "source": [
        "opt = optimizers.Adam(learning_rate=0.001)\n",
        "\n",
        "model.compile(optimizer=opt,\n",
        "              loss='categorical_crossentropy',\n",
        "              metrics=['accuracy'])"
      ]
    },
    {
      "cell_type": "markdown",
      "metadata": {
        "id": "IqeOE7EcDFPD"
      },
      "source": [
        "#### Define callbacks"
      ]
    },
    {
      "cell_type": "code",
      "execution_count": null,
      "metadata": {
        "id": "TiF2lkCBem34"
      },
      "outputs": [],
      "source": [
        "eraly_stop = EarlyStopping(monitor='val_accuracy', mode='max', patience=10, verbose=1)"
      ]
    },
    {
      "cell_type": "code",
      "execution_count": null,
      "metadata": {
        "id": "8qPa6uGZens0"
      },
      "outputs": [],
      "source": [
        "checkpoint = ModelCheckpoint('best_model.h5', monitor='val_accuracy', mode='max', save_best_only=True, verbose=1)"
      ]
    },
    {
      "cell_type": "code",
      "execution_count": null,
      "metadata": {
        "id": "UFiFwJd3eok_"
      },
      "outputs": [],
      "source": [
        "reduce_lr = ReduceLROnPlateau(monitor='val_loss', factor=0.2, patience=3, verbose=1, min_delta=0.0001, min_lr=0.00001)"
      ]
    },
    {
      "cell_type": "markdown",
      "metadata": {
        "id": "3za0plaUDFPD"
      },
      "source": [
        "# Create the Image Data Generators for training, validation and testing"
      ]
    },
    {
      "cell_type": "code",
      "execution_count": null,
      "metadata": {
        "id": "bQ66iQs_HIdd"
      },
      "outputs": [],
      "source": [
        "train_datagen = image.ImageDataGenerator(\n",
        "    rescale=1./255,\n",
        "    rotation_range=15,\n",
        "    width_shift_range=0.1,\n",
        "    height_shift_range=0.1,\n",
        "    fill_mode='nearest'\n",
        ")\n",
        "\n",
        "\n",
        "test_datagen = image.ImageDataGenerator(rescale=1./255)"
      ]
    },
    {
      "cell_type": "code",
      "execution_count": null,
      "metadata": {
        "id": "CvFAdaFf_XCe"
      },
      "outputs": [],
      "source": [
        "# define batch size\n",
        "batch_size=8"
      ]
    },
    {
      "cell_type": "code",
      "execution_count": null,
      "metadata": {
        "colab": {
          "base_uri": "https://localhost:8080/"
        },
        "id": "fiM0DSl0HKJ5",
        "outputId": "7be52350-2c0d-4215-b725-91d9791129b6"
      },
      "outputs": [
        {
          "name": "stdout",
          "output_type": "stream",
          "text": [
            "Found 10712 images belonging to 203 classes.\n"
          ]
        }
      ],
      "source": [
        "train_data_gen = train_datagen.flow_from_directory(train_dir,\n",
        "                                                   batch_size=batch_size,\n",
        "                                                   target_size=(MAX_HEIGHT, MAX_WIDTH),\n",
        "                                                   class_mode='categorical',\n",
        "                                                   color_mode='grayscale')"
      ]
    },
    {
      "cell_type": "code",
      "execution_count": null,
      "metadata": {
        "colab": {
          "base_uri": "https://localhost:8080/"
        },
        "id": "7tuLSGNxHLJ_",
        "outputId": "d5343fd6-be36-415c-8884-3afa25411805"
      },
      "outputs": [
        {
          "name": "stdout",
          "output_type": "stream",
          "text": [
            "Found 2779 images belonging to 203 classes.\n"
          ]
        }
      ],
      "source": [
        "val_data_gen = test_datagen.flow_from_directory(val_dir,\n",
        "                                                batch_size=batch_size,\n",
        "                                                target_size=(MAX_HEIGHT, MAX_WIDTH),\n",
        "                                                shuffle=False,\n",
        "                                                class_mode='categorical',\n",
        "                                                color_mode='grayscale')"
      ]
    },
    {
      "cell_type": "code",
      "execution_count": null,
      "metadata": {
        "colab": {
          "base_uri": "https://localhost:8080/"
        },
        "id": "g43ZpaU_HMxo",
        "outputId": "7584d81d-c5d0-4042-b5c8-e0115111891b"
      },
      "outputs": [
        {
          "name": "stdout",
          "output_type": "stream",
          "text": [
            "Found 962 images belonging to 203 classes.\n"
          ]
        }
      ],
      "source": [
        "test_data_gen = test_datagen.flow_from_directory(test_dir,\n",
        "                                                 batch_size=batch_size,\n",
        "                                                 target_size=(MAX_HEIGHT, MAX_WIDTH),\n",
        "                                                 class_mode='categorical',\n",
        "                                                 shuffle=False,\n",
        "                                                 color_mode='grayscale')"
      ]
    },
    {
      "cell_type": "markdown",
      "metadata": {
        "id": "tZsLbxjBDFPD"
      },
      "source": [
        "# Train the model"
      ]
    },
    {
      "cell_type": "markdown",
      "metadata": {
        "id": "etVD2I0lDFPD"
      },
      "source": [
        "#### calculate epochs and steps"
      ]
    },
    {
      "cell_type": "code",
      "execution_count": null,
      "metadata": {
        "id": "bDFt01jsHOiR"
      },
      "outputs": [],
      "source": [
        "steps_per_epoch = train_data_gen.samples // train_data_gen.batch_size"
      ]
    },
    {
      "cell_type": "code",
      "execution_count": null,
      "metadata": {
        "colab": {
          "base_uri": "https://localhost:8080/"
        },
        "id": "sJq3GWuJHc93",
        "outputId": "b951c077-11a4-4b80-af71-35e10f834623"
      },
      "outputs": [
        {
          "data": {
            "text/plain": [
              "1339"
            ]
          },
          "execution_count": 68,
          "metadata": {},
          "output_type": "execute_result"
        }
      ],
      "source": [
        "steps_per_epoch"
      ]
    },
    {
      "cell_type": "code",
      "execution_count": null,
      "metadata": {
        "id": "6uzJis9hHeCd"
      },
      "outputs": [],
      "source": [
        "validation_steps = val_data_gen.samples // val_data_gen.batch_size"
      ]
    },
    {
      "cell_type": "code",
      "execution_count": null,
      "metadata": {
        "colab": {
          "base_uri": "https://localhost:8080/"
        },
        "id": "evB1Wf9zHe-9",
        "outputId": "9d34c513-025c-45d9-e60a-3ec9f116b3ec"
      },
      "outputs": [
        {
          "data": {
            "text/plain": [
              "347"
            ]
          },
          "execution_count": 70,
          "metadata": {},
          "output_type": "execute_result"
        }
      ],
      "source": [
        "validation_steps"
      ]
    },
    {
      "cell_type": "markdown",
      "metadata": {
        "id": "lFy0iDfvDFPE"
      },
      "source": [
        "#### Train the model"
      ]
    },
    {
      "cell_type": "code",
      "execution_count": null,
      "metadata": {
        "colab": {
          "base_uri": "https://localhost:8080/"
        },
        "id": "RdU494dBHf5I",
        "outputId": "ec993e1c-2bca-4bc7-a705-9750fecd39c0"
      },
      "outputs": [
        {
          "name": "stdout",
          "output_type": "stream",
          "text": [
            "Epoch 1/203\n",
            "1339/1339 [==============================] - ETA: 0s - loss: 5.0649 - accuracy: 0.0200\n",
            "Epoch 1: val_accuracy improved from -inf to 0.04575, saving model to best_model.h5\n",
            "1339/1339 [==============================] - 214s 150ms/step - loss: 5.0649 - accuracy: 0.0200 - val_loss: 4.6630 - val_accuracy: 0.0457 - lr: 0.0010\n",
            "Epoch 2/203\n"
          ]
        },
        {
          "name": "stderr",
          "output_type": "stream",
          "text": [
            "/usr/local/lib/python3.10/dist-packages/keras/src/engine/training.py:3000: UserWarning: You are saving your model as an HDF5 file via `model.save()`. This file format is considered legacy. We recommend using instead the native Keras format, e.g. `model.save('my_model.keras')`.\n",
            "  saving_api.save_model(\n"
          ]
        },
        {
          "name": "stdout",
          "output_type": "stream",
          "text": [
            "1339/1339 [==============================] - ETA: 0s - loss: 4.3974 - accuracy: 0.0583\n",
            "Epoch 2: val_accuracy improved from 0.04575 to 0.07097, saving model to best_model.h5\n",
            "1339/1339 [==============================] - 205s 153ms/step - loss: 4.3974 - accuracy: 0.0583 - val_loss: 4.1918 - val_accuracy: 0.0710 - lr: 0.0010\n",
            "Epoch 3/203\n",
            "1339/1339 [==============================] - ETA: 0s - loss: 4.0389 - accuracy: 0.0966\n",
            "Epoch 3: val_accuracy improved from 0.07097 to 0.10663, saving model to best_model.h5\n",
            "1339/1339 [==============================] - 205s 153ms/step - loss: 4.0389 - accuracy: 0.0966 - val_loss: 3.9593 - val_accuracy: 0.1066 - lr: 0.0010\n",
            "Epoch 4/203\n",
            "1339/1339 [==============================] - ETA: 0s - loss: 3.7726 - accuracy: 0.1325\n",
            "Epoch 4: val_accuracy improved from 0.10663 to 0.12392, saving model to best_model.h5\n",
            "1339/1339 [==============================] - 205s 153ms/step - loss: 3.7726 - accuracy: 0.1325 - val_loss: 3.7676 - val_accuracy: 0.1239 - lr: 0.0010\n",
            "Epoch 5/203\n",
            "1339/1339 [==============================] - ETA: 0s - loss: 3.5545 - accuracy: 0.1680\n",
            "Epoch 5: val_accuracy improved from 0.12392 to 0.18228, saving model to best_model.h5\n",
            "1339/1339 [==============================] - 205s 153ms/step - loss: 3.5545 - accuracy: 0.1680 - val_loss: 3.4841 - val_accuracy: 0.1823 - lr: 0.0010\n",
            "Epoch 6/203\n",
            "1339/1339 [==============================] - ETA: 0s - loss: 3.3795 - accuracy: 0.1948\n",
            "Epoch 6: val_accuracy improved from 0.18228 to 0.18552, saving model to best_model.h5\n",
            "1339/1339 [==============================] - 205s 153ms/step - loss: 3.3795 - accuracy: 0.1948 - val_loss: 3.4409 - val_accuracy: 0.1855 - lr: 0.0010\n",
            "Epoch 7/203\n",
            "1339/1339 [==============================] - ETA: 0s - loss: 3.2239 - accuracy: 0.2226\n",
            "Epoch 7: val_accuracy improved from 0.18552 to 0.21578, saving model to best_model.h5\n",
            "1339/1339 [==============================] - 205s 153ms/step - loss: 3.2239 - accuracy: 0.2226 - val_loss: 3.2504 - val_accuracy: 0.2158 - lr: 0.0010\n",
            "Epoch 8/203\n",
            "1339/1339 [==============================] - ETA: 0s - loss: 3.0993 - accuracy: 0.2482\n",
            "Epoch 8: val_accuracy improved from 0.21578 to 0.23379, saving model to best_model.h5\n",
            "1339/1339 [==============================] - 205s 153ms/step - loss: 3.0993 - accuracy: 0.2482 - val_loss: 3.1814 - val_accuracy: 0.2338 - lr: 0.0010\n",
            "Epoch 9/203\n",
            "1339/1339 [==============================] - ETA: 0s - loss: 2.9786 - accuracy: 0.2667\n",
            "Epoch 9: val_accuracy improved from 0.23379 to 0.25504, saving model to best_model.h5\n",
            "1339/1339 [==============================] - 205s 153ms/step - loss: 2.9786 - accuracy: 0.2667 - val_loss: 3.0414 - val_accuracy: 0.2550 - lr: 0.0010\n",
            "Epoch 10/203\n",
            "1339/1339 [==============================] - ETA: 0s - loss: 2.8869 - accuracy: 0.2826\n",
            "Epoch 10: val_accuracy improved from 0.25504 to 0.28026, saving model to best_model.h5\n",
            "1339/1339 [==============================] - 205s 153ms/step - loss: 2.8869 - accuracy: 0.2826 - val_loss: 2.9322 - val_accuracy: 0.2803 - lr: 0.0010\n",
            "Epoch 11/203\n",
            "1339/1339 [==============================] - ETA: 0s - loss: 2.8036 - accuracy: 0.2968\n",
            "Epoch 11: val_accuracy improved from 0.28026 to 0.29719, saving model to best_model.h5\n",
            "1339/1339 [==============================] - 205s 153ms/step - loss: 2.8036 - accuracy: 0.2968 - val_loss: 2.8221 - val_accuracy: 0.2972 - lr: 0.0010\n",
            "Epoch 12/203\n",
            "1339/1339 [==============================] - ETA: 0s - loss: 2.7422 - accuracy: 0.3071\n",
            "Epoch 12: val_accuracy improved from 0.29719 to 0.30367, saving model to best_model.h5\n",
            "1339/1339 [==============================] - 205s 153ms/step - loss: 2.7422 - accuracy: 0.3071 - val_loss: 2.7745 - val_accuracy: 0.3037 - lr: 0.0010\n",
            "Epoch 13/203\n",
            "1339/1339 [==============================] - ETA: 0s - loss: 2.6685 - accuracy: 0.3251\n",
            "Epoch 13: val_accuracy improved from 0.30367 to 0.31628, saving model to best_model.h5\n",
            "1339/1339 [==============================] - 205s 153ms/step - loss: 2.6685 - accuracy: 0.3251 - val_loss: 2.7594 - val_accuracy: 0.3163 - lr: 0.0010\n",
            "Epoch 14/203\n",
            "1339/1339 [==============================] - ETA: 0s - loss: 2.6158 - accuracy: 0.3311\n",
            "Epoch 14: val_accuracy did not improve from 0.31628\n",
            "1339/1339 [==============================] - 205s 153ms/step - loss: 2.6158 - accuracy: 0.3311 - val_loss: 2.7252 - val_accuracy: 0.3058 - lr: 0.0010\n",
            "Epoch 15/203\n",
            "1339/1339 [==============================] - ETA: 0s - loss: 2.5628 - accuracy: 0.3426\n",
            "Epoch 15: val_accuracy improved from 0.31628 to 0.32493, saving model to best_model.h5\n",
            "1339/1339 [==============================] - 205s 153ms/step - loss: 2.5628 - accuracy: 0.3426 - val_loss: 2.6442 - val_accuracy: 0.3249 - lr: 0.0010\n",
            "Epoch 16/203\n",
            "1339/1339 [==============================] - ETA: 0s - loss: 2.5048 - accuracy: 0.3609\n",
            "Epoch 16: val_accuracy did not improve from 0.32493\n",
            "1339/1339 [==============================] - 205s 153ms/step - loss: 2.5048 - accuracy: 0.3609 - val_loss: 2.6588 - val_accuracy: 0.3159 - lr: 0.0010\n",
            "Epoch 17/203\n",
            "1339/1339 [==============================] - ETA: 0s - loss: 2.4587 - accuracy: 0.3636\n",
            "Epoch 17: val_accuracy improved from 0.32493 to 0.33105, saving model to best_model.h5\n",
            "1339/1339 [==============================] - 205s 153ms/step - loss: 2.4587 - accuracy: 0.3636 - val_loss: 2.6197 - val_accuracy: 0.3311 - lr: 0.0010\n",
            "Epoch 18/203\n",
            "1339/1339 [==============================] - ETA: 0s - loss: 2.4141 - accuracy: 0.3803\n",
            "Epoch 18: val_accuracy improved from 0.33105 to 0.33573, saving model to best_model.h5\n",
            "1339/1339 [==============================] - 205s 153ms/step - loss: 2.4141 - accuracy: 0.3803 - val_loss: 2.5842 - val_accuracy: 0.3357 - lr: 0.0010\n",
            "Epoch 19/203\n",
            "1339/1339 [==============================] - ETA: 0s - loss: 2.3784 - accuracy: 0.3855\n",
            "Epoch 19: val_accuracy improved from 0.33573 to 0.35951, saving model to best_model.h5\n",
            "1339/1339 [==============================] - 205s 153ms/step - loss: 2.3784 - accuracy: 0.3855 - val_loss: 2.5014 - val_accuracy: 0.3595 - lr: 0.0010\n",
            "Epoch 20/203\n",
            "1339/1339 [==============================] - ETA: 0s - loss: 2.3360 - accuracy: 0.3918\n",
            "Epoch 20: val_accuracy improved from 0.35951 to 0.36167, saving model to best_model.h5\n",
            "1339/1339 [==============================] - 205s 153ms/step - loss: 2.3360 - accuracy: 0.3918 - val_loss: 2.4861 - val_accuracy: 0.3617 - lr: 0.0010\n",
            "Epoch 21/203\n",
            "1339/1339 [==============================] - ETA: 0s - loss: 2.3160 - accuracy: 0.3964\n",
            "Epoch 21: val_accuracy improved from 0.36167 to 0.36888, saving model to best_model.h5\n",
            "1339/1339 [==============================] - 205s 153ms/step - loss: 2.3160 - accuracy: 0.3964 - val_loss: 2.4356 - val_accuracy: 0.3689 - lr: 0.0010\n",
            "Epoch 22/203\n",
            "1339/1339 [==============================] - ETA: 0s - loss: 2.2743 - accuracy: 0.4049\n",
            "Epoch 22: val_accuracy did not improve from 0.36888\n",
            "1339/1339 [==============================] - 205s 153ms/step - loss: 2.2743 - accuracy: 0.4049 - val_loss: 2.4519 - val_accuracy: 0.3685 - lr: 0.0010\n",
            "Epoch 23/203\n",
            "1339/1339 [==============================] - ETA: 0s - loss: 2.2389 - accuracy: 0.4161\n",
            "Epoch 23: val_accuracy improved from 0.36888 to 0.37896, saving model to best_model.h5\n",
            "1339/1339 [==============================] - 205s 153ms/step - loss: 2.2389 - accuracy: 0.4161 - val_loss: 2.4125 - val_accuracy: 0.3790 - lr: 0.0010\n",
            "Epoch 24/203\n",
            "1339/1339 [==============================] - ETA: 0s - loss: 2.2089 - accuracy: 0.4171\n",
            "Epoch 24: val_accuracy improved from 0.37896 to 0.38653, saving model to best_model.h5\n",
            "1339/1339 [==============================] - 205s 153ms/step - loss: 2.2089 - accuracy: 0.4171 - val_loss: 2.3721 - val_accuracy: 0.3865 - lr: 0.0010\n",
            "Epoch 25/203\n",
            "1339/1339 [==============================] - ETA: 0s - loss: 2.1763 - accuracy: 0.4296\n",
            "Epoch 25: val_accuracy did not improve from 0.38653\n",
            "1339/1339 [==============================] - 205s 153ms/step - loss: 2.1763 - accuracy: 0.4296 - val_loss: 2.3681 - val_accuracy: 0.3746 - lr: 0.0010\n",
            "Epoch 26/203\n",
            "1339/1339 [==============================] - ETA: 0s - loss: 2.1427 - accuracy: 0.4356\n",
            "Epoch 26: val_accuracy did not improve from 0.38653\n",
            "1339/1339 [==============================] - 205s 153ms/step - loss: 2.1427 - accuracy: 0.4356 - val_loss: 2.3356 - val_accuracy: 0.3851 - lr: 0.0010\n",
            "Epoch 27/203\n",
            "1339/1339 [==============================] - ETA: 0s - loss: 2.1175 - accuracy: 0.4399\n",
            "Epoch 27: val_accuracy improved from 0.38653 to 0.39697, saving model to best_model.h5\n",
            "1339/1339 [==============================] - 205s 153ms/step - loss: 2.1175 - accuracy: 0.4399 - val_loss: 2.3188 - val_accuracy: 0.3970 - lr: 0.0010\n",
            "Epoch 28/203\n",
            "1339/1339 [==============================] - ETA: 0s - loss: 2.1015 - accuracy: 0.4433\n",
            "Epoch 28: val_accuracy improved from 0.39697 to 0.39914, saving model to best_model.h5\n",
            "1339/1339 [==============================] - 205s 153ms/step - loss: 2.1015 - accuracy: 0.4433 - val_loss: 2.3051 - val_accuracy: 0.3991 - lr: 0.0010\n",
            "Epoch 29/203\n",
            "1339/1339 [==============================] - ETA: 0s - loss: 2.0689 - accuracy: 0.4525\n",
            "Epoch 29: val_accuracy improved from 0.39914 to 0.40418, saving model to best_model.h5\n",
            "1339/1339 [==============================] - 207s 154ms/step - loss: 2.0689 - accuracy: 0.4525 - val_loss: 2.3263 - val_accuracy: 0.4042 - lr: 0.0010\n",
            "Epoch 30/203\n",
            "1339/1339 [==============================] - ETA: 0s - loss: 2.0455 - accuracy: 0.4588\n",
            "Epoch 30: val_accuracy did not improve from 0.40418\n",
            "1339/1339 [==============================] - 205s 153ms/step - loss: 2.0455 - accuracy: 0.4588 - val_loss: 2.3191 - val_accuracy: 0.3984 - lr: 0.0010\n",
            "Epoch 31/203\n",
            "1339/1339 [==============================] - ETA: 0s - loss: 2.0368 - accuracy: 0.4575\n",
            "Epoch 31: val_accuracy improved from 0.40418 to 0.40490, saving model to best_model.h5\n",
            "1339/1339 [==============================] - 205s 153ms/step - loss: 2.0368 - accuracy: 0.4575 - val_loss: 2.2772 - val_accuracy: 0.4049 - lr: 0.0010\n",
            "Epoch 32/203\n",
            "1339/1339 [==============================] - ETA: 0s - loss: 2.0076 - accuracy: 0.4710\n",
            "Epoch 32: val_accuracy did not improve from 0.40490\n",
            "1339/1339 [==============================] - 205s 153ms/step - loss: 2.0076 - accuracy: 0.4710 - val_loss: 2.3083 - val_accuracy: 0.4031 - lr: 0.0010\n",
            "Epoch 33/203\n",
            "1339/1339 [==============================] - ETA: 0s - loss: 1.9980 - accuracy: 0.4668\n",
            "Epoch 33: val_accuracy improved from 0.40490 to 0.43444, saving model to best_model.h5\n",
            "1339/1339 [==============================] - 205s 153ms/step - loss: 1.9980 - accuracy: 0.4668 - val_loss: 2.1481 - val_accuracy: 0.4344 - lr: 0.0010\n",
            "Epoch 34/203\n",
            "1339/1339 [==============================] - ETA: 0s - loss: 1.9858 - accuracy: 0.4734\n",
            "Epoch 34: val_accuracy did not improve from 0.43444\n",
            "1339/1339 [==============================] - 205s 153ms/step - loss: 1.9858 - accuracy: 0.4734 - val_loss: 2.3000 - val_accuracy: 0.4078 - lr: 0.0010\n",
            "Epoch 35/203\n",
            "1339/1339 [==============================] - ETA: 0s - loss: 1.9609 - accuracy: 0.4778\n",
            "Epoch 35: val_accuracy did not improve from 0.43444\n",
            "1339/1339 [==============================] - 205s 153ms/step - loss: 1.9609 - accuracy: 0.4778 - val_loss: 2.3148 - val_accuracy: 0.4017 - lr: 0.0010\n",
            "Epoch 36/203\n",
            "1339/1339 [==============================] - ETA: 0s - loss: 1.9501 - accuracy: 0.4774\n",
            "Epoch 36: val_accuracy did not improve from 0.43444\n",
            "\n",
            "Epoch 36: ReduceLROnPlateau reducing learning rate to 0.00020000000949949026.\n",
            "1339/1339 [==============================] - 205s 153ms/step - loss: 1.9501 - accuracy: 0.4774 - val_loss: 2.2513 - val_accuracy: 0.4110 - lr: 0.0010\n",
            "Epoch 37/203\n",
            "1339/1339 [==============================] - ETA: 0s - loss: 1.8646 - accuracy: 0.5054\n",
            "Epoch 37: val_accuracy did not improve from 0.43444\n",
            "1339/1339 [==============================] - 205s 153ms/step - loss: 1.8646 - accuracy: 0.5054 - val_loss: 2.1530 - val_accuracy: 0.4287 - lr: 2.0000e-04\n",
            "Epoch 38/203\n",
            "1339/1339 [==============================] - ETA: 0s - loss: 1.8300 - accuracy: 0.5237\n",
            "Epoch 38: val_accuracy did not improve from 0.43444\n",
            "1339/1339 [==============================] - 205s 153ms/step - loss: 1.8300 - accuracy: 0.5237 - val_loss: 2.1787 - val_accuracy: 0.4226 - lr: 2.0000e-04\n",
            "Epoch 39/203\n",
            "1339/1339 [==============================] - ETA: 0s - loss: 1.8318 - accuracy: 0.5200\n",
            "Epoch 39: val_accuracy did not improve from 0.43444\n",
            "\n",
            "Epoch 39: ReduceLROnPlateau reducing learning rate to 4.0000001899898055e-05.\n",
            "1339/1339 [==============================] - 205s 153ms/step - loss: 1.8318 - accuracy: 0.5200 - val_loss: 2.1719 - val_accuracy: 0.4294 - lr: 2.0000e-04\n",
            "Epoch 40/203\n",
            "1339/1339 [==============================] - ETA: 0s - loss: 1.8127 - accuracy: 0.5236\n",
            "Epoch 40: val_accuracy did not improve from 0.43444\n",
            "1339/1339 [==============================] - 205s 153ms/step - loss: 1.8127 - accuracy: 0.5236 - val_loss: 2.1512 - val_accuracy: 0.4326 - lr: 4.0000e-05\n",
            "Epoch 41/203\n",
            "1339/1339 [==============================] - ETA: 0s - loss: 1.8162 - accuracy: 0.5211\n",
            "Epoch 41: val_accuracy did not improve from 0.43444\n",
            "1339/1339 [==============================] - 205s 153ms/step - loss: 1.8162 - accuracy: 0.5211 - val_loss: 2.1479 - val_accuracy: 0.4316 - lr: 4.0000e-05\n",
            "Epoch 42/203\n",
            "1339/1339 [==============================] - ETA: 0s - loss: 1.8266 - accuracy: 0.5177\n",
            "Epoch 42: val_accuracy did not improve from 0.43444\n",
            "1339/1339 [==============================] - 205s 153ms/step - loss: 1.8266 - accuracy: 0.5177 - val_loss: 2.1590 - val_accuracy: 0.4294 - lr: 4.0000e-05\n",
            "Epoch 43/203\n",
            "1339/1339 [==============================] - ETA: 0s - loss: 1.8189 - accuracy: 0.5235\n",
            "Epoch 43: val_accuracy did not improve from 0.43444\n",
            "1339/1339 [==============================] - 205s 153ms/step - loss: 1.8189 - accuracy: 0.5235 - val_loss: 2.1450 - val_accuracy: 0.4337 - lr: 4.0000e-05\n",
            "Epoch 43: early stopping\n"
          ]
        }
      ],
      "source": [
        "history = model.fit(\n",
        "    train_data_gen,\n",
        "    epochs=len(selected_authors),\n",
        "    steps_per_epoch=steps_per_epoch,\n",
        "    validation_data=val_data_gen,\n",
        "    validation_steps=validation_steps,\n",
        "    callbacks=[checkpoint, eraly_stop, reduce_lr]\n",
        ")"
      ]
    },
    {
      "cell_type": "markdown",
      "metadata": {
        "id": "CNadOU_mDFPE"
      },
      "source": [
        "# Model statistics"
      ]
    },
    {
      "cell_type": "code",
      "execution_count": null,
      "metadata": {
        "id": "01SVDw4gJlJl"
      },
      "outputs": [],
      "source": [
        "selected_history = {\n",
        "    'accuracy': history.history['accuracy'],\n",
        "    'val_accuracy': history.history['val_accuracy'],\n",
        "    'loss': history.history['loss'],\n",
        "    'val_loss': history.history['val_loss']\n",
        "}"
      ]
    },
    {
      "cell_type": "code",
      "execution_count": null,
      "metadata": {
        "colab": {
          "base_uri": "https://localhost:8080/",
          "height": 607
        },
        "id": "M2iTI0K2JpSM",
        "outputId": "f3ba84b2-89b0-44f2-ec56-ce886c31cc08"
      },
      "outputs": [
        {
          "data": {
            "image/png": "[encoded data removed]",
            "text/plain": [
              "<Figure size 1200x600 with 2 Axes>"
            ]
          },
          "metadata": {},
          "output_type": "display_data"
        }
      ],
      "source": [
        "dplot_graph(**selected_history)"
      ]
    },
    {
      "cell_type": "code",
      "execution_count": null,
      "metadata": {
        "id": "v7OheI8AJuC1"
      },
      "outputs": [],
      "source": [
        "selected_history['epochs'] = len(history.epoch)"
      ]
    },
    {
      "cell_type": "code",
      "execution_count": null,
      "metadata": {
        "colab": {
          "base_uri": "https://localhost:8080/",
          "height": 607
        },
        "id": "vEUw__XnJvaa",
        "outputId": "19146f79-914f-423d-c585-9bd19215a657"
      },
      "outputs": [
        {
          "data": {
            "image/png": "[encoded data removed]",
            "text/plain": [
              "<Figure size 1200x600 with 2 Axes>"
            ]
          },
          "metadata": {},
          "output_type": "display_data"
        }
      ],
      "source": [
        "dplot_smoothing(**selected_history)"
      ]
    },
    {
      "cell_type": "markdown",
      "metadata": {
        "id": "nHlm3kzzDFPE"
      },
      "source": [
        "# Evaluate model for testing"
      ]
    },
    {
      "cell_type": "markdown",
      "metadata": {
        "id": "NOVXyYxfDFPE"
      },
      "source": [
        "#### calculate number of steps"
      ]
    },
    {
      "cell_type": "code",
      "execution_count": null,
      "metadata": {
        "id": "MaE6GC75KBRQ"
      },
      "outputs": [],
      "source": [
        "steps = test_data_gen.n // test_data_gen.batch_size"
      ]
    },
    {
      "cell_type": "code",
      "execution_count": null,
      "metadata": {
        "colab": {
          "base_uri": "https://localhost:8080/"
        },
        "id": "A7LjsJleKCDh",
        "outputId": "1e8ee179-9463-4175-c6d5-30f1b608d352"
      },
      "outputs": [
        {
          "data": {
            "text/plain": [
              "120"
            ]
          },
          "execution_count": 77,
          "metadata": {},
          "output_type": "execute_result"
        }
      ],
      "source": [
        "steps"
      ]
    },
    {
      "cell_type": "markdown",
      "metadata": {
        "id": "ldthW6eVDFPE"
      },
      "source": [
        "# Evaluate"
      ]
    },
    {
      "cell_type": "code",
      "execution_count": null,
      "metadata": {
        "id": "XPSo36c9KD0k"
      },
      "outputs": [],
      "source": [
        "test_loss, test_acc = model.evaluate(test_data_gen, steps=steps, verbose=0)"
      ]
    },
    {
      "cell_type": "code",
      "execution_count": null,
      "metadata": {
        "colab": {
          "base_uri": "https://localhost:8080/"
        },
        "id": "-c0VVq_VKFZ0",
        "outputId": "6d936fe4-b1f4-4c0c-b89e-331f9266d0a5"
      },
      "outputs": [
        {
          "data": {
            "text/plain": [
              "0.49270832538604736"
            ]
          },
          "execution_count": 79,
          "metadata": {},
          "output_type": "execute_result"
        }
      ],
      "source": [
        "test_acc"
      ]
    },
    {
      "cell_type": "markdown",
      "metadata": {
        "id": "vE0IMk7EDFPE"
      },
      "source": [
        "#### Confusion Matrix"
      ]
    },
    {
      "cell_type": "code",
      "execution_count": null,
      "metadata": {
        "colab": {
          "base_uri": "https://localhost:8080/",
          "height": 643
        },
        "id": "tFscEUyJ2058",
        "outputId": "56ef40b8-9db5-414e-a73c-d8a4deff25e2"
      },
      "outputs": [
        {
          "name": "stdout",
          "output_type": "stream",
          "text": [
            "348/348 [==============================] - 44s 125ms/step\n",
            "121/121 [==============================] - 16s 131ms/step\n"
          ]
        },
        {
          "data": {
            "image/png": "[encoded data removed]",
            "text/plain": [
              "<Figure size 1200x600 with 4 Axes>"
            ]
          },
          "metadata": {},
          "output_type": "display_data"
        }
      ],
      "source": [
        "dplot_confusion_matrix(model, val_data_gen, test_data_gen)"
      ]
    },
    {
      "cell_type": "markdown",
      "metadata": {
        "id": "jy3Jmta6DFPF"
      },
      "source": [
        "# Save model to file"
      ]
    },
    {
      "cell_type": "code",
      "execution_count": null,
      "metadata": {
        "colab": {
          "base_uri": "https://localhost:8080/"
        },
        "id": "YjW3R3Tm3Lh1",
        "outputId": "703b8a95-e7dc-40e0-9c5d-64fb6505e437"
      },
      "outputs": [
        {
          "name": "stdout",
          "output_type": "stream",
          "text": [
            "Saved model to disk\n"
          ]
        }
      ],
      "source": [
        "model_json = model.to_json()\n",
        "with open('model_project.json', 'w') as json_file:\n",
        "  json_file.write(model_json)\n",
        "\n",
        "model.save_weights('model_project.h5')\n",
        "print('Saved model to disk')"
      ]
    },
    {
      "cell_type": "markdown",
      "metadata": {
        "id": "2wFLF7SCDFPF"
      },
      "source": [
        "# Load model from file and prepare for testing"
      ]
    },
    {
      "cell_type": "code",
      "execution_count": null,
      "metadata": {
        "id": "Ais-Fiiw3N2m"
      },
      "outputs": [],
      "source": [
        "input_shape = (MAX_HEIGHT, MAX_WIDTH, 1)\n",
        "loaded_model = build_transfer_model(input_shape, len(selected_authors))"
      ]
    },
    {
      "cell_type": "code",
      "execution_count": null,
      "metadata": {
        "id": "lX_4x-pe3UH2"
      },
      "outputs": [],
      "source": [
        "loaded_model.load_weights('model_project.h5')"
      ]
    },
    {
      "cell_type": "code",
      "execution_count": null,
      "metadata": {
        "colab": {
          "base_uri": "https://localhost:8080/"
        },
        "id": "ySkWG3Ev3Wu_",
        "outputId": "c92e1d2e-8c17-4b91-d783-8e90ccef05f5"
      },
      "outputs": [
        {
          "name": "stdout",
          "output_type": "stream",
          "text": [
            "121/121 [==============================] - 15s 121ms/step - loss: 0.0478 - accuracy: 0.4938\n",
            "accuracy: 49.376%\n"
          ]
        }
      ],
      "source": [
        "loaded_model.compile(loss='binary_crossentropy', optimizer='rmsprop', metrics=['accuracy'])\n",
        "score = loaded_model.evaluate(test_data_gen)\n",
        "print(\"%s: %.3f%%\" % (loaded_model.metrics_names[1], score[1]*100))"
      ]
    },
    {
      "cell_type": "markdown",
      "metadata": {
        "id": "SUY0S6yIDFPF"
      },
      "source": [
        "# Run Test data"
      ]
    },
    {
      "cell_type": "markdown",
      "metadata": {
        "id": "sXz7bxS6DFPF"
      },
      "source": [
        "#### Predict"
      ]
    },
    {
      "cell_type": "code",
      "execution_count": null,
      "metadata": {
        "colab": {
          "base_uri": "https://localhost:8080/"
        },
        "id": "_D-9SC1X3Wty",
        "outputId": "a71ef1ab-1dd7-41f5-8a51-3d5db866acfd"
      },
      "outputs": [
        {
          "name": "stdout",
          "output_type": "stream",
          "text": [
            "121/121 [==============================] - 15s 121ms/step\n"
          ]
        }
      ],
      "source": [
        "predictions = loaded_model.predict(test_data_gen)\n",
        "predicted_labels = np.argmax(predictions, axis=1)"
      ]
    },
    {
      "cell_type": "markdown",
      "metadata": {
        "id": "SIy4emojDFPF"
      },
      "source": [
        "#### Use Majority vote for final predictions"
      ]
    },
    {
      "cell_type": "code",
      "execution_count": null,
      "metadata": {
        "colab": {
          "base_uri": "https://localhost:8080/"
        },
        "id": "jYkAF8zL4nQC",
        "outputId": "8fc9b4b1-47ea-43f1-8109-72bcab2e26d3"
      },
      "outputs": [
        {
          "name": "stdout",
          "output_type": "stream",
          "text": [
            "121/121 [==============================] - 15s 121ms/step\n"
          ]
        }
      ],
      "source": [
        "author_to_final_preds, author_to_confidences = predict_using_majority_vote_by_author(loaded_model, test_data_gen)"
      ]
    },
    {
      "cell_type": "markdown",
      "metadata": {
        "id": "jc-ZdjV5DFPF"
      },
      "source": [
        "#### Calculate average confidence"
      ]
    },
    {
      "cell_type": "code",
      "execution_count": null,
      "metadata": {
        "colab": {
          "base_uri": "https://localhost:8080/"
        },
        "id": "K5wduZgG4p8H",
        "outputId": "83099b01-c824-4363-d466-67923cf8e2a0"
      },
      "outputs": [
        {
          "name": "stdout",
          "output_type": "stream",
          "text": [
            "Average Confidence: 56.96%\n"
          ]
        }
      ],
      "source": [
        "average_confidence = sum(author_to_confidences.values()) / len(author_to_confidences)\n",
        "print(f\"Average Confidence: {average_confidence * 100:.2f}%\")"
      ]
    },
    {
      "cell_type": "markdown",
      "metadata": {
        "id": "tg3on_L-DFPF"
      },
      "source": [
        "#### Analyze the predictions"
      ]
    },
    {
      "cell_type": "code",
      "execution_count": null,
      "metadata": {
        "id": "6Kp1bhWF4p7E"
      },
      "outputs": [],
      "source": [
        "class_indices = test_data_gen.class_indices\n",
        "index_to_class = {v: k for k, v in class_indices.items()}"
      ]
    },
    {
      "cell_type": "code",
      "execution_count": null,
      "metadata": {
        "id": "dnWkg0A74ufK"
      },
      "outputs": [],
      "source": [
        "correct_preds, incorrect_preds = categorize_predictions(author_to_final_preds, index_to_class)"
      ]
    },
    {
      "cell_type": "markdown",
      "metadata": {
        "id": "PSSIy-n8DFPF"
      },
      "source": [
        "#### Incorrect Predictions"
      ]
    },
    {
      "cell_type": "code",
      "execution_count": null,
      "metadata": {
        "colab": {
          "base_uri": "https://localhost:8080/"
        },
        "id": "P6lYqmPM4ueO",
        "outputId": "1ab060f4-4b58-4769-8042-1d148b008567"
      },
      "outputs": [
        {
          "data": {
            "text/plain": [
              "64"
            ]
          },
          "execution_count": 90,
          "metadata": {},
          "output_type": "execute_result"
        }
      ],
      "source": [
        "len(incorrect_preds)"
      ]
    },
    {
      "cell_type": "markdown",
      "metadata": {
        "id": "MIhFTEc7DFPF"
      },
      "source": [
        "#### Correct predictions"
      ]
    },
    {
      "cell_type": "code",
      "execution_count": null,
      "metadata": {
        "colab": {
          "base_uri": "https://localhost:8080/"
        },
        "id": "raGwfiRT4y-R",
        "outputId": "aecc66ef-c5de-47d9-98b0-030d9781d2f6"
      },
      "outputs": [
        {
          "data": {
            "text/plain": [
              "139"
            ]
          },
          "execution_count": 92,
          "metadata": {},
          "output_type": "execute_result"
        }
      ],
      "source": [
        "len(correct_preds)"
      ]
    }
  ],
  "metadata": {
    "accelerator": "GPU",
    "colab": {
      "machine_shape": "hm",
      "provenance": []
    },
    "kernelspec": {
      "display_name": "Python 3",
      "name": "python3"
    },
    "language_info": {
      "name": "python"
    }
  },
  "nbformat": 4,
  "nbformat_minor": 0
}
